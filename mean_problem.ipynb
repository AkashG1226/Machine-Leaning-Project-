{
  "nbformat": 4,
  "nbformat_minor": 0,
  "metadata": {
    "colab": {
      "provenance": [],
      "authorship_tag": "ABX9TyPQkIpzz0u1HkZVTXlRYnDE",
      "include_colab_link": true
    },
    "kernelspec": {
      "name": "python3",
      "display_name": "Python 3"
    },
    "language_info": {
      "name": "python"
    }
  },
  "cells": [
    {
      "cell_type": "markdown",
      "metadata": {
        "id": "view-in-github",
        "colab_type": "text"
      },
      "source": [
        "<a href=\"https://colab.research.google.com/github/AkashG1226/Machine-Leaning-Project-/blob/main/mean_problem.ipynb\" target=\"_parent\"><img src=\"https://colab.research.google.com/assets/colab-badge.svg\" alt=\"Open In Colab\"/></a>"
      ]
    },
    {
      "cell_type": "code",
      "execution_count": null,
      "metadata": {
        "id": "2CY4ea74kSae"
      },
      "outputs": [],
      "source": [
        "import numpy as np\n",
        "import matplotlib.pyplot as plt"
      ]
    },
    {
      "cell_type": "code",
      "source": [
        "ir = 0.5"
      ],
      "metadata": {
        "id": "4ERlvSJ-kZ3n"
      },
      "execution_count": null,
      "outputs": []
    },
    {
      "cell_type": "code",
      "source": [
        "x = np.array([1,2,3,4])\n",
        "y = np.array([1,2,3,4])"
      ],
      "metadata": {
        "id": "wRXDBjJTkfZk"
      },
      "execution_count": null,
      "outputs": []
    },
    {
      "cell_type": "code",
      "source": [
        "F0 = np.mean(y)\n",
        "pred = np.full_like(y,F0,dtype=float)\n",
        "print(f\"initial prediction(F0): {F0}\")"
      ],
      "metadata": {
        "colab": {
          "base_uri": "https://localhost:8080/"
        },
        "id": "xLQBHz0dkpYN",
        "outputId": "4396b033-1feb-49ac-bf60-1f76ec97dc00"
      },
      "execution_count": null,
      "outputs": [
        {
          "output_type": "stream",
          "name": "stdout",
          "text": [
            "initial prediction(F0): 2.5\n"
          ]
        }
      ]
    },
    {
      "cell_type": "code",
      "source": [
        "residuall = y - F0\n",
        "print(\"Residuals after iteration 0:\", residuall)"
      ],
      "metadata": {
        "colab": {
          "base_uri": "https://localhost:8080/"
        },
        "id": "4s39Tvf-lYmX",
        "outputId": "fe98ff9d-1468-4ff0-b0a0-4a3285ddf186"
      },
      "execution_count": null,
      "outputs": [
        {
          "output_type": "stream",
          "name": "stdout",
          "text": [
            "Residuals after iteration 0: [-1.5 -0.5  0.5  1.5]\n"
          ]
        }
      ]
    },
    {
      "cell_type": "code",
      "source": [
        "def treel(x):\n",
        "  return np.where(x <= 2.5,-1,+1)\n",
        "\n",
        "h1 = treel(x)\n",
        "F1 = F0 + ir * h1\n",
        "print(\"prediction after iteration 1:\",F1)"
      ],
      "metadata": {
        "colab": {
          "base_uri": "https://localhost:8080/"
        },
        "id": "1m0rxzbwmHmW",
        "outputId": "d990e1f2-3e0f-46c1-bd87-29699cd3d98a"
      },
      "execution_count": null,
      "outputs": [
        {
          "output_type": "stream",
          "name": "stdout",
          "text": [
            "prediction after iteration 1: [2. 2. 3. 3.]\n"
          ]
        }
      ]
    },
    {
      "cell_type": "code",
      "source": [
        "residual2 = y - F1\n",
        "print(\"Residuals after iteration 0:\", residual2)"
      ],
      "metadata": {
        "colab": {
          "base_uri": "https://localhost:8080/"
        },
        "id": "piwQ-QtKm2hO",
        "outputId": "1dfd479d-d191-4eaf-d9cc-514c6c9340f7"
      },
      "execution_count": null,
      "outputs": [
        {
          "output_type": "stream",
          "name": "stdout",
          "text": [
            "Residuals after iteration 0: [-1.  0.  0.  1.]\n"
          ]
        }
      ]
    },
    {
      "cell_type": "code",
      "source": [
        "def tree2(x):\n",
        "  return np.where(x <= 1.5,-1, np.where(x >= 3.5, +1, 0))\n",
        "\n",
        "h2=tree2(x)\n",
        "F2=F1 + ir * h2\n",
        "print(\"Prediction after first iteration 2:\",F2)"
      ],
      "metadata": {
        "colab": {
          "base_uri": "https://localhost:8080/"
        },
        "id": "wlOiUwVAoLnc",
        "outputId": "6710a8dd-11d1-4c4b-bee8-c2a2d95f9d3a"
      },
      "execution_count": null,
      "outputs": [
        {
          "output_type": "stream",
          "name": "stdout",
          "text": [
            "Prediction after first iteration 2: [1.5 2.  3.  3.5]\n"
          ]
        }
      ]
    },
    {
      "cell_type": "code",
      "source": [
        "print(\"\\nTrue y values:    \",y)\n",
        "print(\"Final predictions:\",F2)\n",
        "print(\"Absolute error:   \",np.abs(F2-y))"
      ],
      "metadata": {
        "colab": {
          "base_uri": "https://localhost:8080/"
        },
        "id": "X0Oqsi0FolLb",
        "outputId": "3bf8a084-983d-4801-df11-2b96764c6cfa"
      },
      "execution_count": null,
      "outputs": [
        {
          "output_type": "stream",
          "name": "stdout",
          "text": [
            "\n",
            "True y values:     [1 2 3 4]\n",
            "Final predictions: [1.5 2.  3.  3.5]\n",
            "Absolute error:    [0.5 0.  0.  0.5]\n"
          ]
        }
      ]
    },
    {
      "cell_type": "code",
      "source": [],
      "metadata": {
        "id": "34yhra-lpjtP"
      },
      "execution_count": null,
      "outputs": []
    }
  ]
}